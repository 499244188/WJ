{
 "cells": [
  {
   "cell_type": "markdown",
   "metadata": {},
   "source": [
    "[目录]\n",
    "===========================\n",
    "- [一、运营指标](#一、运营指标 )\n",
    "\n",
    ">   [1.订单导入及时率](#1.订单导入及时率)  \n",
    ">   -  [订单导入及时率汇总](#订单导入及时率汇总) \n",
    "\n",
    ">  [2.系统派单率](#2.系统派单率)  \n",
    ">   [3.系统派单及时率](#3.系统派单及时率)  \n",
    ">   [4.APP使用率](#4.APP使用率)  \n",
    ">   [5.天眼异常处理率](#5.天眼异常处理率)  \n",
    ">   [6.无单派车补录订单及时率](#6.无单派车补录订单及时率)  \n",
    ">   [7.无单派车补录订单完成率](#7.无单派车补录订单完成率)  \n",
    ">   [8.到仓电子围栏开启率](#8.到仓电子围栏开启率)  \n",
    ">   [9.到店电子围栏开启率](#9.到店电子围栏开启率)  \n",
    ">   [10.停运客户关闭及时率](#10.停运客户关闭及时率)  \n",
    " \n",
    "\n",
    " - [一、经营指标](#经营指标 )"
   ]
  },
  {
   "attachments": {},
   "cell_type": "markdown",
   "metadata": {},
   "source": [
    "### 城市和城市归属\n",
    "公司名称\t|\t编码\t|\t归属\n",
    ":----\t|\t:---:\t|\t:---\n",
    "唯捷福州配送中心\t|\t146\t|\t福州唯捷\n",
    "广州唯捷\t|\t101\t|\t广州唯捷\n",
    "贵阳唯捷\t|\t151\t|\t贵阳唯捷\n",
    "杭州唯捷\t|\t126\t|\t杭州唯捷\n",
    "唯捷青岛配送中心\t|\t142\t|\t济南唯捷\n",
    "济南唯捷\t|\t149\t|\t济南唯捷\n",
    "唯捷潍坊配送中心\t|\t175\t|\t济南唯捷\n",
    "唯捷烟台配送中心\t|\t176\t|\t济南唯捷\n",
    "唯捷临沂配送中心\t|\t174\t|\t济南唯捷\n",
    "唯捷济宁配送中心\t|\t199\t|\t济南唯捷\n",
    "南京唯捷\t|\t141\t|\t南京唯捷\n",
    "合肥唯捷\t|\t145\t|\t南京唯捷\n",
    "唯捷苏州配送中心\t|\t140\t|\t配送本部\n",
    "唯捷宁波配送中心\t|\t167\t|\t配送本部\n",
    "大连唯捷\t|\t37\t|\t配送本部\n",
    "成都唯捷\t|\t91\t|\t配送本部\n",
    "唯捷徐州配送中心\t|\t161\t|\t配送本部\n",
    "唯捷淮安配送中心\t|\t188\t|\t配送本部\n",
    "唯捷沈阳配送中心\t|\t195\t|\t配送本部\n",
    "唯捷昆明配送中心\t|\t182\t|\t配送本部\n",
    "唯捷长春配送中心\t|\t181\t|\t配送本部\n",
    "天门唯捷\t|\t196\t|\t配送本部\n",
    "厦门唯捷\t|\t49\t|\t厦门唯捷\n",
    "上海唯捷\t|\t71\t|\t上海唯捷\n",
    "西安唯捷\t|\t127\t|\t西安唯捷\n",
    "\n",
    "`CodOrder.companyId in (71,49,101,126,151,127,141,149,145,142,152,176,177,146,140,167,37,91,161,188,195,182,181,196,199)`"
   ]
  },
  {
   "cell_type": "markdown",
   "metadata": {},
   "source": [
    "### 需要剔除客户"
   ]
  },
  {
   "attachments": {},
   "cell_type": "markdown",
   "metadata": {},
   "source": [
    "clientId|\tclientName|\tclientNo\n",
    ":---:|:---|:---\n",
    "18262|\t零售通\t|LST\n",
    "18976|\t天津零售通|\t213\n",
    "19083|\t东莞零售通|\tDGLST\n",
    "19149|\t福州零售通|\tlsls0014\n",
    "19328|\t零售通|\tZS04LST\n",
    "19421|\t福州零售通|\tfzlst\n",
    "19424|\t零售通福州心怡|\t364\n",
    "19503|\t递易智能科技有限公司|\t367\n",
    "19520|\t零售通|\tcainiao1\n",
    "19591|\t泉州零售通|\tcainiao2\n",
    "19815|\t泉州零售通|\t1\n",
    "19825|\t福州零售通宁德干线|\tLSTNDGX\n",
    "19858|\t武汉阿里零售通|\tWHALLST\n",
    "19908|\tVIP递易智能科技|\tVIP00007\n",
    "19910|\t递易智能科技有限公司|\tdykdg001\n",
    "19916|\t递易快递|\tDYKD\n",
    "19918|\t成都递易快递柜|\tDYKDG\n",
    "19928|\t广佛零售通|\tGFLST\n",
    "19938|\t递易智能科技有限公司|\tdykdg001\n",
    "20005|\t广佛零售通南站|\tGFLSTNZ\n",
    "20006|\t广佛零售通北站|\tGFLSTBZ\n",
    "20007|\t广佛零售通狮山站|\tGFLSTSSZ\n",
    "20008|\t广佛零售通陈村站|\tGFLSTCCZ\n",
    "20009|\t广佛零售通干线|\tGFLSTGX\n",
    "20034|\t杭州十足|\thzsp026\n",
    "20038|\t零售通|\t1\n",
    "20071|\t小区乐|\txql666\n",
    "20081|\t长沙美宜佳铺子|\tcsmyjpz\n",
    "20083|\t广佛零售通东站|\tGFLSTDZ"
   ]
  },
  {
   "cell_type": "markdown",
   "metadata": {},
   "source": [
    "(20071,18262,18976,19083,19149,19328,19421,19424,19520,19591,19815,19825,19858,19928,20005,20006,20007,20008,20009,20038,20083,19503,19908,19910,19916,19918,19938,20034,20081)"
   ]
  },
  {
   "cell_type": "markdown",
   "metadata": {},
   "source": [
    "('20071',\n",
    "'18262',\n",
    "'18976',\n",
    "'19083',\n",
    "'19149',\n",
    "'19328',\n",
    "'19421',\n",
    "'19424',\n",
    "'19520',\n",
    "'19591',\n",
    "'19815',\n",
    "'19825',\n",
    "'19858',\n",
    "'19928',\n",
    "'20005',\n",
    "'20006',\n",
    "'20007',\n",
    "'20008',\n",
    "'20009',\n",
    "'20038',\n",
    "'20083',\n",
    "'19503',\n",
    "'19908',\n",
    "'19910',\n",
    "'19916',\n",
    "'19918',\n",
    "'19938',\n",
    "'20034',\n",
    "'20081')"
   ]
  },
  {
   "cell_type": "markdown",
   "metadata": {},
   "source": [
    "('LST',\n",
    "'0213',\n",
    "'DGLST',\n",
    "'lsls0014',\n",
    "'ZS04LST',\n",
    "'fzlst',\n",
    "'0364',\n",
    "'0367',\n",
    "'cainiao1',\n",
    "'cainiao2',\n",
    "'01',\n",
    "'LSTNDGX',\n",
    "'WHALLST',\n",
    "'VIP00007',\n",
    "'dykdg001',\n",
    "'DYKD',\n",
    "'DYKDG',\n",
    "'GFLST',\n",
    "'dykdg001',\n",
    "'GFLSTNZ',\n",
    "'GFLSTBZ',\n",
    "'GFLSTSSZ',\n",
    "'GFLSTCCZ',\n",
    "'GFLSTGX',\n",
    "'hzsp026',\n",
    "'001',\n",
    "'xql666',\n",
    "'csmyjpz',\n",
    "'GFLSTDZ')"
   ]
  },
  {
   "cell_type": "markdown",
   "metadata": {},
   "source": [
    "# 一、运营指标 "
   ]
  },
  {
   "cell_type": "code",
   "execution_count": null,
   "metadata": {
    "collapsed": true
   },
   "outputs": [],
   "source": []
  },
  {
   "cell_type": "markdown",
   "metadata": {},
   "source": [
    "## 1.订单导入及时率"
   ]
  },
  {
   "cell_type": "markdown",
   "metadata": {},
   "source": [
    "$$\\frac{订单创建时间 < 配送开始时间的订单}{所有需配送的订单}$$\n",
    "\n",
    "**查询界面** ：[订单管理]  \n",
    "**统计时间**：配送开始时间  \n",
    "**统计条件**: (时间: 配送时间) + (运输类型 : 同城配送、专线运输)  \n",
    "**针对正常订单**：订单创建时间小于配送开始时间:订单创建时间<配送开始时间  \n",
    "**针对无单派车订单**：查询订单关联的派车单派车类型为无单派车的订单，订单创建时间小于配送结束时间。  \n",
    "**总订单数**：配送开始时间的总订单数"
   ]
  },
  {
   "cell_type": "markdown",
   "metadata": {},
   "source": [
    " ---"
   ]
  },
  {
   "cell_type": "markdown",
   "metadata": {},
   "source": [
    "#### 订单导入及时率-汇总\n",
    "\n",
    "城市公司 | 订单配送开始日期|订单总数|订单导入时间小于配送开始时间订单数\n",
    ":----: | :----: | :----: | :----: \n",
    "成都唯捷| 2019/2/28 | 77 | 70 "
   ]
  },
  {
   "cell_type": "markdown",
   "metadata": {},
   "source": [
    "#### 订单导入及时率明细-样表\n",
    "\n",
    "日期 | 城市公司| 客户名称|是否异常|订单号|配送类型|订单创建时间|配送开始时间|配送结束时间\n",
    ":----: | :----: | :----: | :----: | :----: | :----:| :----: | :----: | :----:\n",
    "2019-4-15| 上海唯捷 | 上海客户A | 否 | YCWLD2019022701073 |  | 2019/2/28  11:21:28 | 2019/2/28  11:21:28 |  2019/2/28  11:21:28"
   ]
  },
  {
   "cell_type": "markdown",
   "metadata": {},
   "source": [
    "#### 订单导入及时率汇总"
   ]
  },
  {
   "cell_type": "markdown",
   "metadata": {},
   "source": [
    "```sql\n",
    "declare @beginTime varchar(20)\n",
    "declare @endTime varchar(20)\n",
    "declare @companyId int \n",
    "select @beginTime='2019-03-01', @endTime='2019-03-20'\n",
    "select  \n",
    "tb_company.company_name,\n",
    "convert(varchar(10),distributionTime,120) as '订单配送开始日期',\n",
    "count(orderId) '订单总数' , \n",
    "sum(case when createTime < distributionTime then 1 else 0 end) as '订单导入时间小于配送开始时间订单数'\n",
    "from CodOrder \n",
    "LEFT JOIN tb_company on tb_company.company_Id = codorder.companyId\n",
    "where companyId in (71,49,101,126,151,127,141,149,145,142,152,176,177,146,140,167,37,91,161,188,195,182,181,196,199) and orderTransportationType = 1\n",
    "and orderTransportationType in (1,2) --同城配送，专线运输\n",
    "and distributionTime >= @beginTime and distributionTime < @endTime  and deleteflag = 0 and orderState <> 4 and CodOrder.clientId != 20071\n",
    "--and CodOrder.clientId not in (17953,18262,19083,19048,19327,19022,19398,19483,17992,18070,19476,19444,17509,19843)\n",
    "group by convert(varchar(10),distributionTime,120),tb_company.company_name \n",
    "order by tb_company.company_name,convert(varchar(10),distributionTime,120)\n",
    "```"
   ]
  },
  {
   "cell_type": "markdown",
   "metadata": {},
   "source": [
    "#### 订单导入及时率明细"
   ]
  },
  {
   "cell_type": "markdown",
   "metadata": {},
   "source": [
    "```sql\n",
    "-----明细,,统计公司 替换 companyId的值即可\n",
    "declare @beginTime varchar(20)\n",
    "declare @endTime varchar(20)\n",
    "declare @companyId int \n",
    "select @beginTime='2019-04-01', @endTime='2019-04-15'\n",
    "select  \n",
    "tb_company.company_name as '公司名称',\n",
    "CodOrder.orderNo  as '订单号',\n",
    "CodClient.clientName as '客户名称',\n",
    "CodClient.clientId as '客户id',\n",
    "(case  CodOrder.orderTransportationType when 1 then '同城配送' when 2 then '专线运输' when 3 then '无需配送' end ) as '配送类型',\n",
    "CodOrder.createTime as '订单创建时间',\n",
    "Codorder.distributionTime as '订单配送开始时间',\n",
    "CodOrder.distributionTimeEnd as '订单配送结束时间',\n",
    "case when CodOrder.createTime < CodOrder.distributionTime then '正常' else '订单导入时间小于配送开始时间' END as '是否异常'\n",
    "from CodOrder \n",
    "LEFT JOIN tb_company on tb_company.company_Id = codorder.companyId\n",
    "LEFT JOIN CodClient on CodClient.clientId = CodOrder.clientId\n",
    "where CodOrder.companyId in (71,49,101,126,151,127,141,149,145,142,152,176,177,146,140,167,37,91,161,188,195,182,181,196,199) and CodOrder.orderTransportationType = 1\n",
    "and orderTransportationType in (1,2) --同城配送，专线运输\n",
    "and distributionTime >= @beginTime and distributionTime < @endTime  and CodOrder.deleteflag = 0 and CodOrder.orderState <> 4 and  CodOrder.clientId != 20071\n",
    "--and CodOrder.clientId not in (17953,18262,19083,19048,19327,19022,19398,19483,17992,18070,19476,19444,17509,19843)\n",
    "order by codorder.createTime \n",
    "```"
   ]
  },
  {
   "cell_type": "markdown",
   "metadata": {},
   "source": [
    "## 2.系统派单率"
   ]
  },
  {
   "cell_type": "markdown",
   "metadata": {},
   "source": [
    "$$\\frac{已派订单}{总订单}$$"
   ]
  },
  {
   "cell_type": "markdown",
   "metadata": {},
   "source": [
    "**查询界面:** 订单管理-订单管理  \n",
    "**统计时间:**配送开始时日期  \n",
    "**查询条件:**(时间 : 配送时间) + (运输类型 : 同城配送、专线运输)  \n",
    "**完成派车的订单总数:**订单关联派车单  \n",
    "**应派车订单总数总数:**用配送开始时间 查找同城配送与专线运输的订单  "
   ]
  },
  {
   "cell_type": "markdown",
   "metadata": {},
   "source": [
    "---"
   ]
  },
  {
   "attachments": {},
   "cell_type": "markdown",
   "metadata": {},
   "source": [
    "#### 系统派单率汇总-样表\n",
    "\n",
    "城市公司 | 订单配送开始日期|应派车订单总数|调度系统及时派车的订单总数\n",
    ":----: | :----: | :----: | :----: \n",
    "成都唯捷| 2019/2/28 | 77 | 70 "
   ]
  },
  {
   "cell_type": "markdown",
   "metadata": {},
   "source": [
    "#### 系统派单率汇总-样表\n",
    "\n",
    "公司名称 | 客户名称|派车单号|订单号|派车单创建时间|订单创建时间|配送开始时间|配送结束时间|仓库提货时间|提货时间|到仓时间|创建途径|订单类型|订单状态|收货门店|派车类型|是否派车|提货时间|到仓时间\n",
    ":----: | :----: | :----: | :----: | :----: | :----:| :----: | :----: | :----:| :----: | :----:| :----: | :----: | :----:| :----: | :----:| :----: | :----: | :----:\n",
    "上海唯捷 | 上海客户A|TMWJD2019040400007|TMWJD2019040400008|2019/4/4  9:56:38|2019/4/4  9:52:38|2019/4/1  0:30:00|2019/4/1  23:59:00|2019/4/1  23:59:00|2019/4/1  23:59:00|2019/4/1  23:59:00|EXCEL|配送|已完成|虹盛东路店|即时派车|为派车|2019/4/1  0:30:00|2019/4/1  0:30:00"
   ]
  },
  {
   "cell_type": "markdown",
   "metadata": {},
   "source": [
    "#### 系统派单率汇总"
   ]
  },
  {
   "cell_type": "markdown",
   "metadata": {},
   "source": [
    "```sql\n",
    "declare @beginTime varchar(20)\n",
    "declare @endTime varchar(20)\n",
    "declare @companyId int\n",
    "select @beginTime='2019-03-01', @endTime='2019-03-27'\n",
    "select \n",
    "tb_company.company_name,\n",
    "convert(varchar(10),distributionTime,120) as '日期',\n",
    "count(orderId) as '应派车订单总数'\n",
    ",sum(case when currentSendcarId > 0 then 1 else 0 end) as '调度系统完成派车的订单总数'\n",
    "from CodOrder \n",
    "LEFT JOIN tb_company on tb_company.company_id = CodOrder.companyId\n",
    "where CodOrder.companyId in (71,49,101,126,151,127,141,149,145,142,152,176,177,146,140,167,37,91,161,188,195,182,181,196,199)\n",
    "and distributionTime >= @beginTime and  distributionTime < @endTime\n",
    "and CodOrder.deleteflag = 0 and orderState <> 4 and orderTransportationType = 1 and CodOrder.clientId != 20071\n",
    "and orderTransportationType in (1,2) --同城配送，专线运输\n",
    "--and CodOrder.clientId not in (17953,18262,19083,19048,19327,19022,19398,19483,17992,18070,19476,19444,17509,19843)\n",
    "group by convert(varchar(10),distributionTime,120),tb_company.company_name\n",
    "order by tb_company.company_name,convert(varchar(10),distributionTime,120)\n",
    "```"
   ]
  },
  {
   "cell_type": "markdown",
   "metadata": {},
   "source": [
    "#### 系统派单率明细"
   ]
  },
  {
   "cell_type": "markdown",
   "metadata": {},
   "source": [
    "```sql\n",
    "declare @beginTime varchar(20)\n",
    "declare @endTime varchar(20)\n",
    "declare @companyId int\n",
    "select @beginTime='2019-04-01', @endTime='2019-04-15'\n",
    "select \n",
    "tb_company.company_name as '公司名称',\n",
    "CodClient.clientName as '客户名称',\n",
    "CodSendcar.sendcarNo as '派车单号',\n",
    "CodOrder.orderNo as '订单号',\n",
    "CodSendcar.createTime as '派车单创建时间',\n",
    "CodOrder.createTime as '订单创建时间',\n",
    "Codorder.distributionTime as '订单配送开始时间',\n",
    "CodOrder.distributionTimeEnd as '订单配送结束时间',\n",
    "CodOrder.pickUpTime as '提货时间',\n",
    "CodOrder.warehouseArrivalTime    as '到仓时间',\n",
    "CodOrder.createType as '创建途径',\n",
    "CodOrder.orderCause as '订单类型',\n",
    "( case CodOrder.orderState when 0 then '新订单' when 1 then '待提货' when 2 then '配送中'\n",
    "when 3 then '已完成' when 4 then '已作废' when 5 then '已返货' end) as '订单状态'  ,\n",
    "(case  when  CodOrder.firstSendcarTime is not null then '是' else '否' end ) as '是否派车',\n",
    "CodOrder.endLinkman as '收货门店',\n",
    "(case CodSendcar.exeTimeType when 0 then '即时派车' when 1 then '计划派车' when 2 then '无单派车' end) as '派车类型' ,\n",
    "case when currentSendcarId > 0 then '正常' else '未派车' end as '是否派车'\n",
    "from CodOrder\n",
    "LEFT JOIN CodSendcar on CodSendcar.sendcarId = CodOrder.currentsendcarId\n",
    "LEFT JOIN tb_company on tb_company.company_id = CodOrder.companyId\n",
    "LEFT JOIN CodClient on CodClient.clientId = CodOrder.clientId\n",
    "where CodOrder.companyId in (71,49,101,126,151,127,141,149,145,142,152,176,177,146,140,167,37,91,161,188,195,182,181,196,199)\n",
    "and distributionTime >= @beginTime and  distributionTime < @endTime\n",
    "and CodOrder.deleteflag = 0 and orderState <> 4 and orderTransportationType = 1 and CodOrder.clientId != 20071\n",
    "and orderTransportationType in (1,2) --同城配送，专线运输\n",
    "--and CodOrder.clientId not in (17953,18262,19083,19048,19327,19022,19398,19483,17992,18070,19476,19444,17509,19843)\n",
    "order by CodOrder.distributionTime \n",
    "```"
   ]
  },
  {
   "cell_type": "markdown",
   "metadata": {},
   "source": [
    "## 3.系统派单及时率"
   ]
  },
  {
   "cell_type": "markdown",
   "metadata": {},
   "source": [
    "#### 系统派单及时率汇总"
   ]
  },
  {
   "cell_type": "markdown",
   "metadata": {},
   "source": [
    "```sql\n",
    "declare @beginTime varchar(20)\n",
    "declare @endTime varchar(20)\n",
    "declare @companyId int\n",
    "select @beginTime='2019-04-01', @endTime='2019-04-03'\n",
    "select \n",
    "tb_company.company_name,\n",
    "convert(varchar(10),distributionTime,120) as '日期',\n",
    "count(orderId) as '应派车订单总数'\n",
    ",sum(case when ((currentSendcarId > 0 and CodOrder.distributionTime >= CodOrder.firstSendcarTime) or CodOrder.firstSendcarTime is null) then 1 else 0 end) as '调度系统及时派车的订单总数'\n",
    "from CodOrder \n",
    "LEFT JOIN tb_company on tb_company.company_id = CodOrder.companyId\n",
    "where CodOrder.companyId in (71,49,101,126,151,127,141,149,145,142,152,176,177,146,140,167,37,91,161,188,195,182,181,196,199)\n",
    "and distributionTime >= @beginTime and  distributionTime < @endTime\n",
    "and CodOrder.createTime <= CodOrder.distributionTime\n",
    "and CodOrder.deleteflag = 0 and orderState <> 4 and orderTransportationType = 1 and CodOrder.clientId != 20071\n",
    "and CodOrder.clientId not in (17953,18262,19083,19048,19327,19022,19398,19483,17992,18070,19476,19444,17509,19843)\n",
    "group by convert(varchar(10),distributionTime,120),tb_company.company_name\n",
    "order by tb_company.company_name,convert(varchar(10),distributionTime,120)\n",
    "```"
   ]
  },
  {
   "cell_type": "markdown",
   "metadata": {},
   "source": [
    "#### 系统派单及时率明细"
   ]
  },
  {
   "cell_type": "markdown",
   "metadata": {},
   "source": [
    "```sql\n",
    "declare @beginTime varchar(20)\n",
    "declare @endTime varchar(20)\n",
    "declare @companyId int\n",
    "select @beginTime='2019-04-01', @endTime='2019-04-02'\n",
    "select \n",
    "tb_company.company_name as '公司名称',\n",
    "CodClient.clientName as '客户名称',\n",
    "CodSendcar.sendcarNo as '派车单号',\n",
    "CodOrder.orderNo as '订单号',\n",
    "CodSendcar.createTime as '派车单创建时间',\n",
    "CodSendcar.sendcarTime as '派车时间',\n",
    "CodOrder.firstSendcarTime as '首次派车时间',\n",
    "CodOrder.createTime as '订单创建时间',\n",
    "Codorder.distributionTime as '订单配送开始时间',\n",
    "CodOrder.distributionTimeEnd as '订单配送结束时间',\n",
    "CodOrder.warehouseTimeEnd    as '仓库提货时间',\n",
    "CodOrder.pickUpTime as '提货时间',\n",
    "CodOrder.warehouseArrivalTime    as '到仓时间',\n",
    "CodSendcar.businessType AS '订单类型',\n",
    "case when (currentSendcarId > 0 and  CodOrder.distributionTime >= CodOrder.firstSendcarTime) then '正常' when CodOrder.firstSendCarTime is null then '正常' else '非及时' end as '是否及时'\n",
    "from CodOrder\n",
    "LEFT JOIN CodSendcar on CodSendcar.sendcarId = CodOrder.currentsendcarId\n",
    "LEFT JOIN tb_company on tb_company.company_id = CodOrder.companyId\n",
    "LEFT JOIN CodClient on CodClient.clientId = CodOrder.clientId\n",
    "where CodOrder.companyId in (71,49,101,126,151,127,141,149,145,142,152,176,177,146,140,167,37,91,161,188,195,182,181,196,199)\n",
    "and distributionTime >= @beginTime and  distributionTime < @endTime\n",
    "and CodOrder.createTime <= CodOrder.distributionTime\n",
    "and CodOrder.deleteflag = 0 and orderState <> 4 and orderTransportationType = 1  and CodOrder.clientId != 20071\n",
    "and CodOrder.clientId not in (17953,18262,19083,19048,19327,19022,19398,19483,17992,18070,19476,19444,17509,19843)\n",
    "order by CodOrder.distributionTime \n",
    "```"
   ]
  },
  {
   "cell_type": "markdown",
   "metadata": {},
   "source": [
    "## 4.APP使用率"
   ]
  },
  {
   "cell_type": "markdown",
   "metadata": {},
   "source": [
    "#### APP使用率汇总"
   ]
  },
  {
   "cell_type": "markdown",
   "metadata": {},
   "source": [
    "```sql\n",
    "declare @beginTime varchar(20)\n",
    "declare @endTime varchar(20)\n",
    "declare @companyId int \n",
    "select @beginTime='2019-04-01', @endTime='2019-04-10'\n",
    "select \n",
    "tb_company.company_name as '公司名称',\n",
    "convert(varchar(10),CodOrder.distributionTime,120) as '日期' \n",
    ",count(Codorder.orderId) as '已指派司机的订单总数'\n",
    ",sum(case when currentDriverId = signUserId then 1 else 0 end) as '司机APP完成签收订单总数'\n",
    "from CodOrder\n",
    "LEFT JOIN tb_company on tb_company.company_id = codorder.companyId\n",
    "LEFT JOIN CodClient on CodClient.clientId = CodOrder.clientId\n",
    "where CodOrder.companyId in (71,49,101,126,151,127,141,149,145,142,152,176,177,146,140,167,37,91,161,188,195,182,181,196,199) and  CodOrder.orderTransportationType = 1\n",
    "AND  CodClient.clientId != 20071\n",
    "and CodOrder.distributionTime >= @beginTime and CodOrder.distributionTime < @endTime  \n",
    "and CodOrder.currentdriverId > 0\n",
    "--and CodOrder.clientId not in (17953,18262,19083,19048,19327,19022,19398,19483,17992,18070,19843)\n",
    "and CodOrder.deleteflag = 0   and CodOrder.orderState <> 4\n",
    "-- and (distributionTimeEnd < GETDATE())   --配送截止时间小于当前时间,过滤掉跨天还在配送中的订单\n",
    "and CodOrder.distributionTIme > CodOrder.createTime\n",
    "group by convert(varchar(10),CodOrder.distributionTime,120),tb_company.company_name\n",
    "order by tb_company.company_name,convert(varchar(10),CodOrder.distributionTime,120);\n",
    "```"
   ]
  },
  {
   "cell_type": "markdown",
   "metadata": {},
   "source": [
    "#### APP使用率明细"
   ]
  },
  {
   "cell_type": "markdown",
   "metadata": {},
   "source": [
    "```sql\n",
    "declare @beginTime varchar(20)\n",
    "declare @endTime varchar(20)\n",
    "declare @companyId int \n",
    "select @beginTime='2019-04-01', @endTime='2019-04-10'\n",
    "select \n",
    "tb_company.company_name as '公司名称',\n",
    "CodClient.clientName as '客户名称',\n",
    "CONVERT(varchar(10),CodOrder.distributionTime,120) as '日期',\n",
    "CodOrder.createTime as '订单创建时间',\n",
    "CodSendcar.sendcarNo as '派车单号',\n",
    "Codorder.orderNo as '订单编号',\n",
    "Codorder.distributionTime as '订单配送开始时间',\n",
    "CodOrder.distributionTimeEnd as '订单配送结束时间',\n",
    "CodOrder.warehouseTimeEnd    as '仓库提货时间',\n",
    "CodOrder.pickUpTime as '提货时间',\n",
    "CodOrder.warehouseArrivalTime    as '到仓时间',\n",
    "t1.real_name as '司机',\n",
    "t2.real_name as '签收操作人',\n",
    "CodOrder.signTime as '实际签收时间',\n",
    "case\n",
    "when (signTime is not null and signTime <= distributionTimeEnd and currentDriverId = signUserId) then '正常-完成'     --配送截止时间小于当前时间,过滤掉跨天还在配送中的订单\n",
    "when (signTime is null and distributionTimeEnd > GETDATE()) then '正常-配送中'     \n",
    "when (signTime is not null and signTime > distributionTimeEnd and currentDriverId = signUserId) then '异常-配送迟到'\n",
    "when (signTime is not null and currentDriverId <> signUserId) then '异常-签收非本人'\n",
    "when (signTime is null) then '异常-未签收'\n",
    "else '未知异常'  end as '签收状态'\n",
    "from CodOrder\n",
    "LEFT JOIN tb_company on tb_company.company_id = codorder.companyId\n",
    "LEFT JOIN CodClient on CodClient.clientId = CodOrder.clientId\n",
    "LEFT JOIN tb_user t1 on t1.user_id = codorder.currentDriverId\n",
    "LEFT JOIN tb_user t2 on t2.user_id = CodOrder.signUserId\n",
    "LEFT JOIN CodSendcar on CodSendcar.sendcarId = CodOrder.currentSendcarId\n",
    "where CodOrder.companyId in (71,49,101,126,151,127,141,149,145,142,152,176,177,146,140,167,37,91,161,188,195,182,181,196,199) and  CodOrder.orderTransportationType = 1\n",
    "and CodOrder.distributionTime >= @beginTime and CodOrder.distributionTime < @endTime  \n",
    "and CodOrder.currentdriverid > 0\n",
    "and CodOrder.distributionTIme > CodOrder.createTime\n",
    "AND  CodClient.clientId != 20071\n",
    "--and CodOrder.clientId not in (17953,18262,19083,19048,19327,19022,19398,19483,17992,18070,19843)\n",
    "and CodOrder.deleteflag = 0   and CodOrder.orderState <> 4\n",
    "order by CodOrder.distributionTime \n",
    "```"
   ]
  },
  {
   "cell_type": "markdown",
   "metadata": {},
   "source": [
    "## 5.天眼异常处理率"
   ]
  },
  {
   "cell_type": "markdown",
   "metadata": {},
   "source": [
    "#### 天眼异常处理率汇总"
   ]
  },
  {
   "cell_type": "markdown",
   "metadata": {},
   "source": [
    "```sql\n",
    "declare @beginTime date\n",
    "declare @endTime date\n",
    "declare @companyId int \n",
    "select @beginTime='2019-04-01', @endTime='2019-04-10'\n",
    "SELECT\n",
    "        tc.company_Name as '公司名称',convert(varchar(10),ISNULL(co.warehouseRequireTime, co.distributionTime),120) as '日期',count(1) '总数',\n",
    "\t\t\t\tSUM(\n",
    "\t\t\t\t\t\t\t\tCASE WHEN \n",
    "\t\t\t\t\t\t\t\t\t\twmce.closeState= 2 \n",
    "\t\t\t\t\t\t\t\t\t\tAND \t\t\t\t\t\t\t\t\t\t\t\t\t\t\t\t\n",
    "\t\t\t\t\t\t\t\t\t\t\t(\n",
    "\t\t\t\t\t\t\t\t\t\t\t\t\t\tconvert(varchar(10),wmce.handlerTime,120) = convert(varchar(10),exceptionTime,120)\n",
    " \t\t\t\t\t\t\t\t\t\t\t\t\t\tOR(exceptionTime >= convert(varchar(10),exceptionTime,120)+' 23:00:00' AND wmce.handlerTime <= DATEADD(hour,4, exceptionTime))\n",
    "\t\t\t\t\t\t\t\t\t\t\t)\n",
    "\t\t\t\t\t\t\t\tTHEN 1 \n",
    "\t\t\t\t\t\t\t\tELSE 0 END\n",
    "\t\t\t\t\t\t) '已处理总数'\n",
    "        FROM\n",
    "        codorder co(nolock)\n",
    "        LEFT JOIN\n",
    "        wj_monitor_codorder_exception wmce(nolock) ON co.orderId =wmce.orderId\n",
    "        LEFT JOIN wj_monitor_codorder wmc on wmc.orderId = wmce.orderId\n",
    "        LEFT JOIN CodClient cc(nolock) ON wmc.clientId =cc.clientId AND cc.deleteFlag=0\n",
    "        LEFT JOIN CodSendcar cs on cs.sendcarId = co.currentSendCarId AND cs.deleteFlag=0\n",
    "        left join tb_user tu on tu.user_id = co.currentDriverId AND tu.delete_flag=0\n",
    "        LEFT JOIN CodDriverBindCar cbc ON tu.user_id = cbc.driver AND cbc.deleteFlag=0\n",
    "        LEFT JOIN CodCarInfo cci ON cci.carInfoId = cbc.bindCarInfo AND cci.deleteFlag=0\n",
    "LEFT JOIN tb_company tc ON tc.company_Id = wmce.companyId\n",
    "        where\n",
    "\t\t\t\t((co.warehouseRequireTime is NULL AND  co.distributionTime > co.createTime) or co.warehouseRequireTime  > co.createTime)\n",
    "        and cs.driver = co.currentDriverId\n",
    "and tc.company_Id in (71,49,101,126,151,127,141,149,145,142,152,176,177,146,140,167,37,91,161,188,195,182,181,196,199)\n",
    "and co.orderState != 4\n",
    "--exceptionState    1:当天异常,2:即将异常\n",
    "AND wmce.exceptionState in(1,2)\n",
    "AND co.deleteFlag = 0\n",
    "AND co.orderTransportationType != 3\n",
    "AND  cc.clientId != 20071\n",
    "-- exceptionType 1:到仓签到异常  3:签收异常\n",
    "AND wmce.exceptionType in (1, 3)\n",
    "-- AND ((co.warehouseRequireTime is NULL AND  co.distributionTime >= @beginTime AND co.distributionTime < @endTime  ) \n",
    "-- or (co.warehouseRequireTime  >= @beginTime and co.warehouseRequireTime  < @endTime))\n",
    "AND ((co.warehouseRequireTime is NULL AND  co.distributionTime >= @beginTime AND co.distributionTime <= @endTime  ) \n",
    "or (co.warehouseRequireTime  >= @beginTime and co.warehouseRequireTime  <= @endTime))\n",
    "and co.deleteflag = 0 \n",
    "group by convert(varchar(10),ISNULL(co.warehouseRequireTime, co.distributionTime),120),tc.company_name\n",
    "order by tc.company_name,convert(varchar(10),ISNULL(co.warehouseRequireTime, co.distributionTime),120)\n",
    "```"
   ]
  },
  {
   "cell_type": "markdown",
   "metadata": {},
   "source": [
    "#### 天眼异常处理率明细"
   ]
  },
  {
   "cell_type": "markdown",
   "metadata": {},
   "source": [
    "```sql\n",
    "declare @beginTime date\n",
    "declare @endTime date\n",
    "declare @companyId int \n",
    "select @beginTime='2019-04-01 00:00:00', @endTime='2019-04-10 23:59:59'\n",
    "SELECT\n",
    "\t\t\t\ttc.company_name '公司',\n",
    "        convert(varchar(10),co.distributionTime,120) '日期',\n",
    "        wmc.orderNo AS '订单号',\n",
    "        cc.clientName as '所属客户',\n",
    "        tu.real_name as '司机姓名',\n",
    "        cci.carLicense AS '车牌号',\n",
    "        tu.user_phone AS  '手机号',\n",
    "\t\t\t\tISNULL(co.warehouseRequireTime, co.distributionTime) as '标准到仓签到时间',\n",
    "        co.warehouseSignInTime as '实际到仓签到时间',\n",
    "        co.distributionTimeEnd as '标准签收时间',\n",
    "        co.signTime as '实际签收时间',\n",
    "        (CASE WHEN  wmce.exceptionState=1 THEN '当天异常' ELSE '即将异常' END) '异常状态',\n",
    "        wmce.handlerUserName '处理人',\n",
    "        wmce.handlerTime '处理时间',\n",
    "\t\t\t\twmce.exceptionTime '异常生成时间',\n",
    "        (CASE WHEN  wmce.closeState=1 THEN '未处理' ELSE '已处理' END) '处理状态',\n",
    "        (CASE WHEN  wmce.exceptionType=1 THEN '到仓签到' ELSE '签收' END) '异常类型',\n",
    "        wmce.handlerRemark '处理备注',\n",
    "\t\t\t\t(CASE WHEN \n",
    "\t\t\t\t\t\t\t\t\t\twmce.closeState= 2 \n",
    "\t\t\t\t\t\t\t\t\t\tAND \t\t\t\t\t\t\t\t\t\t\t\t\t\t\t\t\n",
    "\t\t\t\t\t\t\t\t\t\t\t(\n",
    "\t\t\t\t\t\t\t\t\t\t\t\t\t\tconvert(varchar(10),wmce.handlerTime,120) = convert(varchar(10),exceptionTime,120)\n",
    " \t\t\t\t\t\t\t\t\t\t\t\t\t\tOR(exceptionTime >= convert(varchar(10),exceptionTime,120)+' 23:00:00' AND wmce.handlerTime <= DATEADD(hour,4, exceptionTime))\n",
    "\t\t\t\t\t\t\t\t\t\t\t)\n",
    "\t\t\t\t\t\t\t\tTHEN '正常' \n",
    "\t\t\t\t\t\t\t\tELSE '异常' END) '及时处理'\n",
    "        FROM\n",
    "        codorder co(nolock)\n",
    "        LEFT JOIN\n",
    "        wj_monitor_codorder_exception wmce(nolock) ON co.orderId = wmce.orderId\n",
    "        LEFT JOIN wj_monitor_codorder wmc on wmc.orderId = wmce.orderId\n",
    "        LEFT JOIN CodClient cc(nolock) ON wmc.clientId =cc.clientId AND cc.deleteFlag=0\n",
    "        LEFT JOIN CodSendcar cs on cs.sendcarId = co.currentSendCarId  AND cs.deleteFlag=0\n",
    "        left join tb_user tu on tu.user_id = co.currentDriverId AND tu.delete_flag=0\n",
    "        LEFT JOIN CodDriverBindCar cbc ON tu.user_id = cbc.driver AND cbc.deleteFlag=0\n",
    "        LEFT JOIN CodCarInfo cci ON cci.carInfoId = cbc.bindCarInfo AND cci.deleteFlag=0\n",
    "\t\t\t\tLEFT JOIN tb_company tc ON tc.company_Id = wmce.companyId\n",
    "        where\n",
    " ((co.warehouseRequireTime is NULL AND  co.distributionTime > co.createTime   ) \n",
    "or (co.warehouseRequireTime  > co.createTime))\n",
    "        and cs.driver = co.currentDriverId\n",
    "            and wmce.exceptionType in(1,3)\n",
    "\t\t\t\t\t\tand tc.company_Id in (71,49,101,126,151,127,141,149,145,142,152,176,177,146,140,167,37,91,161,188,195,182,181,196,199)\n",
    "\t\t\t\t\t\tAND  cc.clientId != 20071\n",
    "AND ((co.warehouseRequireTime is NULL AND  co.distributionTime >= @beginTime AND co.distributionTime < @endTime  ) \n",
    "or (co.warehouseRequireTime  >= @beginTime and co.warehouseRequireTime  < @endTime ))\n",
    "\t\t\t\t\t\t--exceptionState    1:当天异常,2:即将异常\n",
    "\t\t\tAND wmce.exceptionState in (1,2)\n",
    "        \n",
    "        and co.orderState != 4\n",
    "GROUP BY \n",
    "\t\t\t\ttc.company_name,\n",
    "        co.distributionTime,\n",
    "        wmc.orderNo,\n",
    "        cc.clientName,\n",
    "        tu.real_name ,\n",
    "        cci.carLicense ,\n",
    "        tu.user_phone ,\n",
    "         co.warehouseSignInTime ,\n",
    "        co.distributionTimeEnd ,\n",
    "\t\t\t\tISNULL(co.warehouseRequireTime, co.distributionTime) ,\n",
    "\t\t\t\tISNULL(co.warehouseTimeEnd, co.distributionTime) ,\n",
    "        co.signTime ,\n",
    "        wmce.exceptionState,\n",
    "        wmce.handlerUserName,\n",
    "        wmce.handlerTime,\n",
    "        wmce.closeState,\n",
    "        wmce.exceptionType,\n",
    "        wmce.handlerRemark,\n",
    "exceptionTime\n",
    "order by tc.company_name,convert(varchar(10),ISNULL(co.warehouseTImeend, co.distributionTime),120);\n",
    "```"
   ]
  },
  {
   "cell_type": "markdown",
   "metadata": {},
   "source": [
    "## 6.无单派车补录订单及时率"
   ]
  },
  {
   "cell_type": "markdown",
   "metadata": {},
   "source": [
    "#### 无单派车补录订单及时率汇总"
   ]
  },
  {
   "cell_type": "markdown",
   "metadata": {},
   "source": [
    "```sql\n",
    "declare @beginTime varchar(20)\n",
    "declare @endTime varchar(20)\n",
    "select @beginTime='2019-04-01', @endTime='2019-04-10'\n",
    "SELECT\n",
    "\tcm.COMPANY_NAME as '公司名称',\n",
    "\tCOUNT (CodOrder.orderId) as '无单派车订单数',\n",
    "\tsum(case when cs.sendcarTime < CodOrder.distributionTimeEnd then 1 else 0 end) as '派车时间小于配送截止时间订单数',\n",
    "\tconvert(varchar(10),cs.sendcarTime,120) as '派车时间'\n",
    "FROM\n",
    "\tCodOrder LEFT JOIN CodSendcar cs ON CodOrder.currentSendcarId=cs.sendcarId LEFT JOIN tb_company cm ON CodOrder.companyId=cm.COMPANY_ID \n",
    "WHERE\n",
    "\tCodOrder.deleteFlag = 0\n",
    "\tAND CodOrder.clientId != 20071\n",
    "\tAND cs.exeTimeType = 2\n",
    "\tAND cs.sendcarTime >= @beginTime\n",
    "\tAND cs.sendcarTime < @endTime\n",
    "\tAND CodOrder.companyId in (71,49,101,126,151,127,141,149,145,142,152,176,177,146,140,167,37,91,161,188,195,182,181,196,199)\n",
    "GROUP BY CodOrder.companyId,cm.COMPANY_NAME,cs.sendcarTime;\n",
    "```"
   ]
  },
  {
   "cell_type": "markdown",
   "metadata": {},
   "source": [
    "#### 无单派车补录订单及时率明细"
   ]
  },
  {
   "cell_type": "markdown",
   "metadata": {},
   "source": [
    "```sql\n",
    "declare @beginTime varchar(20)\n",
    "declare @endTime varchar(20)\n",
    "select @beginTime='2019-04-01', @endTime='2019-04-10'\n",
    "SELECT\n",
    "\tcm.COMPANY_NAME as '公司名称',\n",
    "\tcc.clientName as '客户名称',\n",
    "\tcs.sendCarNo as '派车单号',\n",
    "\tCodOrder.businessType as '派车类型',\n",
    "\tCodOrder.orderNo as '订单编号',\n",
    "\tCodOrder.createTime AS '订单创建时间',\n",
    "\tCodOrder.distributionTime AS '配送开始时间',\n",
    "\tCodOrder.distributionTimeEnd AS '配送截止时间',\n",
    "\tcase when cs.sendcarTime<CodOrder.distributionTimeEnd then '及时' else '不及时' end as '是否及时'\n",
    "FROM\n",
    "\tCodOrder LEFT JOIN CodSendcar cs ON cs.sendCarId=CodOrder.currentSendcarId LEFT JOIN tb_company cm ON CodOrder.companyId=cm.COMPANY_ID LEFT JOIN CodClient cc ON CodOrder.clientId=cc.clientId \n",
    "WHERE\n",
    "\tCodOrder.deleteFlag = 0\n",
    "\tAND CodOrder.clientId != 20071\n",
    "\tAND cs.exeTimeType = 2\n",
    "\tAND cs.sendcarTime >= @beginTime\n",
    "\tAND cs.sendcarTime < @endTime\n",
    "\tAND CodOrder.companyId in (71,49,101,126,151,127,141,149,145,142,152,176,177,146,140,167,37,91,161,188,195,182,181,196,199)\n",
    "```"
   ]
  },
  {
   "cell_type": "markdown",
   "metadata": {},
   "source": [
    "## 7.无单派车补录订单完成率"
   ]
  },
  {
   "cell_type": "markdown",
   "metadata": {},
   "source": [
    "#### 无单派车补录订单完成率汇总"
   ]
  },
  {
   "cell_type": "markdown",
   "metadata": {},
   "source": [
    "```sql\n",
    "declare @beginTime varchar(20)\n",
    "declare @endTime varchar(20)\n",
    "select @beginTime='2019-04-01', @endTime='2019-04-11'\n",
    "select \n",
    "a.companyId as '公司Id',\n",
    "a.COMPANY_NAME as '公司名称',\n",
    "a.createTime as '派车单创建时间',\n",
    "sum(a.sc1) as '无单派车总数',\n",
    "sum(a.sc2) as '无单派车未补录的订单的派车单总数'\n",
    " from (\n",
    "SELECT\n",
    "\tcompanyId,\n",
    "\tcm.COMPANY_NAME,\n",
    "\tCONVERT (VARCHAR(10), createTime, 120) AS createTime,\n",
    "\tcount(sendcar.sendcarId) AS sc1,\n",
    "  (select count(1) from Codorder where deleteFlag = 0 AND businessType = '无单派车' and currentSendcarId = sendcar.sendcarId) as sc2\n",
    "FROM\n",
    "\tCodSendcar sendcar\n",
    "LEFT JOIN tb_company cm ON sendcar.companyId = cm.COMPANY_ID\n",
    "WHERE\n",
    "\tsendcar.deleteFlag = 0\n",
    "and\tsendcar.clientNos not in('XQL0001','xql666') \n",
    "and sendcar.companyId in (71,49,101,126,151,127,141,149,145,142,152,176,177,146,140,167,37,91,161,188,195,182,181,196,199)\n",
    "AND sendcar.exeTimeType = 2\n",
    "AND sendcar.createTime > @beginTime\n",
    "AND sendcar.createTime < @endTime\n",
    "GROUP BY\n",
    "\tsendcar.companyId,\n",
    "\tCONVERT (VARCHAR(10), sendcar.createTime, 120),\n",
    "\tsendcar.sendcarId,\n",
    "\tcm.COMPANY_NAME) a GROUP BY a.companyId,a.COMPANY_NAME,a.createTime\n",
    "ORDER BY a.companyId,a.COMPANY_NAME,a.createTime;\n",
    "```"
   ]
  },
  {
   "cell_type": "markdown",
   "metadata": {},
   "source": [
    "#### 无单派车补录订单完成率明细"
   ]
  },
  {
   "cell_type": "markdown",
   "metadata": {},
   "source": [
    "```sql\n",
    "declare @beginTime varchar(20)\n",
    "declare @endTime varchar(20)\n",
    "select @beginTime='2019-04-01', @endTime='2019-04-11'\n",
    "SELECT\n",
    "\tcompanyId as '公司ID',\n",
    "\tcm.COMPANY_NAME as '公司名称',\n",
    "  sendcar.clientNames '客户名称',\n",
    "\tCONVERT (VARCHAR(10), createTime, 120) AS '创建时间',\n",
    "\tsendcar.sendcarNo '派车单号',\n",
    "\t(case when (select count(1) from Codorder where deleteFlag = 0 AND businessType = '无单派车' and currentSendcarId = sendcar.sendcarId) > 0 then '未补录' else '已补录' end ) as '是否补录'\n",
    "FROM\n",
    "\tCodSendcar sendcar\n",
    "LEFT JOIN tb_company cm ON sendcar.companyId = cm.COMPANY_ID\n",
    "WHERE\n",
    "\tsendcar.deleteFlag = 0\n",
    "and\tsendcar.clientNos not in('XQL0001','xql666') \n",
    "and sendcar.companyId in (71,49,101,126,151,127,141,149,145,142,152,176,177,146,140,167,37,91,161,188,195,182,181,196,199)\n",
    "AND sendcar.exeTimeType = 2\n",
    "AND sendcar.createTime > @beginTime\n",
    "AND sendcar.createTime < @endTime;\n",
    "```\n"
   ]
  },
  {
   "cell_type": "markdown",
   "metadata": {},
   "source": [
    "## 8.到仓电子围栏开启率"
   ]
  },
  {
   "cell_type": "markdown",
   "metadata": {},
   "source": [
    "#### 到仓电子围栏开启率汇总"
   ]
  },
  {
   "cell_type": "markdown",
   "metadata": {},
   "source": [
    "```sql\n",
    "select\n",
    " a.companyId as '公司ID',\n",
    " a.COMPANY_NAME as '公司名称',\n",
    " sum(a.c) as '客户总数',\n",
    " sum(a.o) as '已开启的到仓数量'\n",
    "from \n",
    "(SELECT \n",
    "\tcompanyId,\n",
    "\tcm.COMPANY_NAME,\n",
    "\tcount(1) as c,\n",
    "\tsum(case when pickMconfines = 1 then 1 else 0 end) as o\n",
    "FROM\n",
    "\t\t\tCodClient LEFT JOIN tb_company cm ON CodClient.companyId=cm.COMPANY_ID\n",
    "\t\tWHERE\n",
    "\t\t\tdeleteFlag = 0\n",
    "\t\tAND clientId != 20071\n",
    "\t\tAND clientState = 0\n",
    "\t\tAND companyId in (71,49,101,126,151,127,141,149,145,142,152,176,177,146,140,167,37,91,161,188,195,182,181,196,199)\n",
    "\t\tAND clientTypeId IN (\n",
    "\t\t\tSELECT\n",
    "\t\t\t\tclientTypeId\n",
    "\t\t\tFROM\n",
    "\t\t\t\tCodClientType\n",
    "\t\t\tWHERE\n",
    "\t\t\t\tcompanyId in (71,49,101,126,151,127,141,149,145,142,152,176,177,146,140,167,37,91,161,188,195,182,181,196,199)\n",
    "\t\t\tAND clientTypeName IN ('配送', '仓配一体')\n",
    "\t\t\tAND spellName IN ('peisong', 'cangpeiyiti')\n",
    "\t\t\tAND clientTypeNo IN ('2', '3')\n",
    "\t\t) \n",
    "GROUP BY companyId,cm.COMPANY_NAME,pickMconfines) a \n",
    "GROUP BY a.companyId,a.COMPANY_NAME\n",
    "\n",
    "```"
   ]
  },
  {
   "cell_type": "markdown",
   "metadata": {},
   "source": [
    "#### 到仓到店电子围栏开启率明细"
   ]
  },
  {
   "cell_type": "markdown",
   "metadata": {},
   "source": [
    "```sql\n",
    "select \n",
    "cm.company_name '公司名称',\n",
    "clientName as '客户',\n",
    "(CASE when CodClient.pickMconfines=1 THEN '启用'\n",
    "WHEN CodClient.pickMconfines=0 THEN '不启用'\n",
    "ELSE ''\n",
    "END) as '到仓是否启用',\n",
    "pickMiles as '到仓公里限制',\n",
    "(case when confines=2 THEN '启用'\n",
    " when confines=0 then '不启用'\n",
    "ELSE '' \n",
    "end) as '到店是否启用',miles as '到店公里限制'\n",
    "from CodClient LEFT JOIN tb_company cm ON CodClient.companyId=cm.COMPANY_ID\n",
    "\t\tWHERE\n",
    "\t\t\tdeleteFlag = 0\n",
    "\t\tAND clientId != 20071\n",
    "\t\tAND clientState = 0\n",
    "\t\tAND companyId in (71,49,101,126,151,127,141,149,145,142,152,176,177,146,140,167,37,91,161,188,195,182,181,196,199)\n",
    "\t\tAND clientTypeId IN (\n",
    "\t\t\tSELECT\n",
    "\t\t\t\tclientTypeId\n",
    "\t\t\tFROM\n",
    "\t\t\t\tCodClientType\n",
    "\t\t\tWHERE\n",
    "\t\t\t\tcompanyId in (71,49,101,126,151,127,141,149,145,142,152,176,177,146,140,167,37,91,161,188,195,182,181,196,199)\n",
    "\t\t\tAND clientTypeName IN ('配送', '仓配一体')\n",
    "\t\t\tAND spellName IN ('PEISONG', 'CANGPEIYITI')\n",
    "\t\t\tAND clientTypeNo IN ('2', '3')) ORDER BY company_name\n",
    "```"
   ]
  },
  {
   "cell_type": "markdown",
   "metadata": {},
   "source": [
    "## 9.到店电子围栏开启率"
   ]
  },
  {
   "cell_type": "markdown",
   "metadata": {},
   "source": [
    "#### 到店电子围栏开启率汇总"
   ]
  },
  {
   "cell_type": "markdown",
   "metadata": {},
   "source": [
    "```sql\n",
    "SELECT\n",
    " a.companyId as '公司ID',\n",
    " a.COMPANY_NAME as '公司名称',\n",
    " sum(a.c) as '客户总数',\n",
    " sum(a.o) as '已开启的到店数量'\t\n",
    "FROM\n",
    "(SELECT \n",
    "\tcompanyId,\n",
    "\tcm.COMPANY_NAME,\n",
    "\tcount(1) as c,\n",
    "\tsum(case when confines = 2 then 1 else 0 end) as o\n",
    "FROM\n",
    "\t\t\tCodClient LEFT JOIN tb_company cm ON CodClient.companyId=cm.COMPANY_ID\n",
    "\t\tWHERE\n",
    "\t\t\tdeleteFlag = 0\n",
    "\t\tAND clientId != 20071\n",
    "\t\tAND clientState = 0\n",
    "\t\tAND companyId in (71,49,101,126,151,127,141,149,145,142,152,176,177,146,174,175)\n",
    "\t\tAND clientTypeId IN (\n",
    "\t\t\tSELECT\n",
    "\t\t\t\tclientTypeId\n",
    "\t\t\tFROM\n",
    "\t\t\t\tCodClientType\n",
    "\t\t\tWHERE\n",
    "\t\t\t\tcompanyId in (71,49,101,126,151,127,141,149,145,142,152,176,177,146,174,175)\n",
    "\t\t\tAND clientTypeName IN ('配送', '仓配一体')\n",
    "\t\t\tAND spellName IN ('PEISONG', 'CANGPEIYITI')\n",
    "\t\t\tAND clientTypeNo IN ('2', '3')\n",
    "\t\t) \n",
    "GROUP BY companyId,cm.COMPANY_NAME,confines) a\n",
    "GROUP BY a.companyId,a.COMPANY_NAME\n",
    "```"
   ]
  },
  {
   "cell_type": "markdown",
   "metadata": {},
   "source": [
    "#### 到店电子围栏开启率汇总\n",
    "  **明细见到仓**"
   ]
  },
  {
   "cell_type": "markdown",
   "metadata": {},
   "source": [
    "## 10.停运客户关闭及时率"
   ]
  },
  {
   "cell_type": "markdown",
   "metadata": {},
   "source": [
    "#### 停运客户关闭及时率汇总"
   ]
  },
  {
   "cell_type": "markdown",
   "metadata": {},
   "source": [
    "```sql\n",
    "SELECT b.company_name '公司名称',b.company_id '公司ID',a.ac '30天以内有订单的合同状态为正常的客户数',b.bc '正常状态客户数量' FROM\n",
    "(SELECT  count( DISTINCT CodClient.clientId) as ac,tb_company.company_id FROM CodOrder \n",
    "LEFT JOIN tb_company on tb_company.company_id = codorder.companyId\n",
    "LEFT JOIN CodClient on CodClient.clientId = CodOrder.clientId\n",
    "where CodOrder.companyId in (71,49,101,126,151,127,141,149,145,142,152,176,177,146,140,167,37,91,161,188,195,182,181,196,199) and  CodOrder.orderTransportationType = 1\n",
    "and CodOrder.currentdriverId > 0\n",
    "and (CodOrder.distributionTime >= (select convert(DATE,dateadd(DD,-30,getdate()))))  and (CodOrder.distributionTime <= (select convert(DATE,dateadd(DD,-0,getdate()))))\n",
    "-- and CodOrder.distributionTime >= '2019-04-01'  and CodOrder.distributionTime <= '2019-04-08'\n",
    "AND  CodClient.clientId != 20071\n",
    "AND  CodClient.businessType != '即时业务'  \n",
    "and CodOrder.deleteflag = 0   and CodOrder.orderState <> 4\n",
    "and CodClient.deleteflag = 0   and CodClient.clientState = 0\n",
    "GROUP BY tb_company.company_id\n",
    ") a RIGHT  JOIN \n",
    "(SELECT count( DISTINCT CodClient.clientId) as bc,tb_company.company_id,tb_company.company_name FROM\n",
    "tb_company \n",
    "LEFT JOIN CodClient on CodClient.companyid = tb_company.company_id\n",
    "where tb_company.company_Id in (71,49,101,126,151,127,141,149,145,142,152,176,177,146,140,167,37,91,161,188,195,182,181,196,199)\n",
    "AND  CodClient.clientId != 20071\n",
    " AND  CodClient.businessType != '即时业务'  \n",
    "and CodClient.deleteflag = 0   and CodClient.clientState = 0\n",
    "GROUP BY tb_company.company_id,tb_company.company_name\n",
    ") b ON a.company_id=b.company_id\n",
    "GROUP BY b.company_id, a.ac,b.bc,b.company_name\n",
    "```"
   ]
  },
  {
   "cell_type": "markdown",
   "metadata": {},
   "source": [
    "#### 停运客户关闭及时率明细"
   ]
  },
  {
   "cell_type": "markdown",
   "metadata": {},
   "source": [
    "```sql\n",
    "SELECT b.company_name '公司名称',b.company_id '公司ID',b.bc '客户ID',b.clientName '客户名称',\n",
    "(CASE WHEN a.state is null THEN '是' ELSE a.state END) '是否正常发货',\n",
    "( '否') '是否关闭'\n",
    " FROM\n",
    "(SELECT   DISTINCT CodClient.clientId as ac,tb_company.company_id ,'否' as state FROM CodOrder \n",
    "LEFT JOIN tb_company on tb_company.company_id = codorder.companyId\n",
    "LEFT JOIN CodClient on CodClient.clientId = CodOrder.clientId\n",
    "where CodOrder.companyId in (71,49,101,126,151,127,141,149,145,142,152,176,177,146,174,175) and  CodOrder.orderTransportationType = 1\n",
    "and CodOrder.currentdriverId > 0\n",
    "and (CodOrder.distributionTime >= (select convert(DATE,dateadd(DD,-30,getdate()))))  and (CodOrder.distributionTime <= (select convert(DATE,dateadd(DD,-0,getdate()))))\n",
    "-- and CodOrder.distributionTime >= '2019-04-01'  and CodOrder.distributionTime <= '2019-04-08'\n",
    "and CodOrder.deleteflag = 0   and CodOrder.orderState <> 4\n",
    "and CodClient.deleteflag = 0   and CodClient.clientState = 0\n",
    "GROUP BY tb_company.company_id,CodClient.clientId\n",
    ") a RIGHT  JOIN \n",
    "(SELECT  DISTINCT CodClient.clientId as bc,tb_company.company_id,tb_company.company_name,CodClient.clientName  FROM\n",
    "tb_company \n",
    "LEFT JOIN CodClient on CodClient.companyid = tb_company.company_id\n",
    "where tb_company.company_Id in (71,49,101,126,151,127,141,149,145,142,152,176,177,146,174,175) \n",
    "AND  CodClient.clientId != 20071\n",
    "AND  CodClient.businessType != '即时业务'  \n",
    "and CodClient.deleteflag = 0   and CodClient.clientState = 0\n",
    "GROUP BY tb_company.company_id,tb_company.company_name,CodClient.clientId,CodClient.clientName\n",
    ") b ON a.company_id=b.company_id AND a.ac = b.bc\n",
    "GROUP BY b.company_id, a.ac,b.bc,b.company_name,b.clientName,a.state\n",
    "```"
   ]
  },
  {
   "cell_type": "code",
   "execution_count": null,
   "metadata": {
    "collapsed": true
   },
   "outputs": [],
   "source": []
  }
 ],
 "metadata": {
  "kernelspec": {
   "display_name": "Python 3",
   "language": "python",
   "name": "python3"
  },
  "language_info": {
   "codemirror_mode": {
    "name": "ipython",
    "version": 3
   },
   "file_extension": ".py",
   "mimetype": "text/x-python",
   "name": "python",
   "nbconvert_exporter": "python",
   "pygments_lexer": "ipython3",
   "version": "3.6.1"
  }
 },
 "nbformat": 4,
 "nbformat_minor": 2
}
